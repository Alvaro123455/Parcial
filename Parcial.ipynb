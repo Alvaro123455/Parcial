{
 "cells": [
  {
   "cell_type": "code",
   "execution_count": null,
   "metadata": {
    "vscode": {
     "languageId": "plaintext"
    }
   },
   "outputs": [],
   "source": [
    "GIT HUB"
   ]
  },
  {
   "cell_type": "markdown",
   "metadata": {},
   "source": [
    "Si alguna empresa se puede considerar “ñoña” (en el sentido más positivo de la palabra), esa es GitHub, una plataforma que los desarrolladores de software usan para alojar y revisar códigos, gestionar proyectos y desarrollar software junto a una comunidad de otros 50 millones de desarrolladores.\n",
    "    \n",
    "GitHub existe desde 2008, cuando el cofundador Chris Wanstrath creó el primer code commit para lo que se convertiría en la principal plataforma del mundo para el desarrollo de software. Hoy en día, organizaciones de todos los tamaños y de todos los sectores, incluso Zendesk, aprovechan los repositorios, las comunidades, los flujos de trabajo y otros beneficios centrales del negocio de GitHub.\""
   ]
  },
  {
   "cell_type": "markdown",
   "metadata": {},
   "source": [
    "Esto es un markdown solo para commits\n"
   ]
  },
  {
   "cell_type": "markdown",
   "metadata": {},
   "source": [
    "Hola soy Luis y mi definición de Git Hub es esta: \n",
    "\n",
    "**GitHub es una plataforma de desarrollo colaborativo para alojar proyectos utilizando el sistema de control de versiones Git. Permite a los desarrolladores trabajar juntos en proyectos desde cualquier parte del mundo. En GitHub, los usuarios pueden crear repositorios para almacenar su código, realizar seguimiento de los cambios a lo largo del tiempo, colaborar con otros desarrolladores mediante la revisión de código, gestionar problemas y solicitudes de características, entre otras funcionalidades. Es una herramienta fundamental en el desarrollo de software moderno y en la colaboración en proyectos de código abierto.**"
   ]
  },
  {
   "cell_type": "code",
   "execution_count": null,
   "metadata": {},
   "outputs": [],
   "source": []
  }
 ],
 "metadata": {
  "kernelspec": {
   "display_name": "Python 3 (ipykernel)",
   "language": "python",
   "name": "python3"
  },
  "language_info": {
   "codemirror_mode": {
    "name": "ipython",
    "version": 3
   },
   "file_extension": ".py",
   "mimetype": "text/x-python",
   "name": "python",
   "nbconvert_exporter": "python",
   "pygments_lexer": "ipython3",
   "version": "3.11.7"
  }
 },
 "nbformat": 4,
 "nbformat_minor": 4
}
