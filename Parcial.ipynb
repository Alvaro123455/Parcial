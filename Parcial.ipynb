{
 "cells": [
  {
   "cell_type": "markdown",
   "id": "b6a9cd08-9ce4-4754-9d48-aafd262de700",
   "metadata": {},
   "source": [
    "Si alguna empresa se puede considerar “ñoña” (en el sentido más positivo de la palabra), esa es GitHub, una plataforma que los desarrolladores de software usan para alojar y revisar códigos, gestionar proyectos y desarrollar software junto a una comunidad de otros 50 millones de desarrolladores.\n",
    "\n",
    "GitHub existe desde 2008, cuando el cofundador Chris Wanstrath creó el primer code commit para lo que se convertiría en la principal plataforma del mundo para el desarrollo de software. Hoy en día, organizaciones de todos los tamaños y de todos los sectores, incluso Zendesk, aprovechan los repositorios, las comunidades, los flujos de trabajo y otros beneficios centrales del negocio de GitHub."
   ]
  },
  {
   "cell_type": "code",
   "execution_count": null,
   "id": "e30c4287",
   "metadata": {
    "vscode": {
     "languageId": "plaintext"
    }
   },
   "outputs": [],
   "source": [
    "cambio "
   ]
  },
  {
   "cell_type": "markdown",
   "id": "6da2a043",
   "metadata": {},
   "source": [
    "hol\n",
    "como estas "
   ]
  }
 ],
 "metadata": {
  "kernelspec": {
   "display_name": "Python 3 (ipykernel)",
   "language": "python",
   "name": "python3"
  },
  "language_info": {
   "codemirror_mode": {
    "name": "ipython",
    "version": 3
   },
   "file_extension": ".py",
   "mimetype": "text/x-python",
   "name": "python",
   "nbconvert_exporter": "python",
   "pygments_lexer": "ipython3",
   "version": "3.11.7"
  }
 },
 "nbformat": 4,
 "nbformat_minor": 5
}
